{
 "cells": [
  {
   "cell_type": "code",
   "execution_count": 1,
   "metadata": {},
   "outputs": [],
   "source": [
    "# import pandas and numpy\n",
    "import pandas as pd\n",
    "import numpy as np"
   ]
  },
  {
   "cell_type": "code",
   "execution_count": 2,
   "metadata": {},
   "outputs": [],
   "source": [
    "# making a function to do tasks given a dataset file name, with description in every print statement\n",
    "def data_analysis(file_name):\n",
    "    data = pd.read_csv(file_name)\n",
    "    print('The column names are:',data.columns)\n",
    "    print('The total number of rows and columns are:',data.shape)\n",
    "    print('The percentage of rows in which response and expected_response are same:',data[data['response'] == data['expected_response']].shape[0]/data.shape[0])\n",
    "    print('The average, median and variance of the column time are:',data['time'].mean(),data['time'].median(),data['time'].var())\n",
    "    print('The average, median and variance of the column tokens/sec are:',data['tokens/sec'].mean(),data['tokens/sec'].median(),data['tokens/sec'].var())\n",
    "    print('The average, median and variance of the column bandwidth are:',data['bandwidth'].mean(),data['bandwidth'].median(),data['bandwidth'].var())\n",
    "    print('The average, median and variance of the column memory are:',data['memory'].mean(),data['memory'].median(),data['memory'].var())\n",
    "    "
   ]
  },
  {
   "cell_type": "code",
   "execution_count": 3,
   "metadata": {},
   "outputs": [
    {
     "name": "stdout",
     "output_type": "stream",
     "text": [
      "The column names are: Index(['response', 'expected_response', 'time', 'tokens/sec', 'bandwidth',\n",
      "       'memory'],\n",
      "      dtype='object')\n",
      "The total number of rows and columns are: (4120, 6)\n",
      "The percentage of rows in which response and expected_response are same: 0.7842233009708738\n",
      "The average, median and variance of the column time are: 0.05820328185387919 0.05131017502571915 7.979846802889846e-05\n",
      "The average, median and variance of the column tokens/sec are: 59.17798882889926 59.271824012385366 0.77295707316489\n",
      "The average, median and variance of the column bandwidth are: 148.25171289242434 148.48678723267625 4.851035048362785\n",
      "The average, median and variance of the column memory are: 2.925951963836894 3.015328256 0.013690060623971129\n"
     ]
    }
   ],
   "source": [
    "# calling the function with the file name\n",
    "data_analysis('Incontext_d_Incontext_m_classification_1B_e5.csv')"
   ]
  },
  {
   "cell_type": "code",
   "execution_count": 4,
   "metadata": {},
   "outputs": [
    {
     "name": "stdout",
     "output_type": "stream",
     "text": [
      "The column names are: Index(['response', 'expected_response', 'time', 'tokens/sec', 'bandwidth',\n",
      "       'memory'],\n",
      "      dtype='object')\n",
      "The total number of rows and columns are: (4120, 6)\n",
      "The percentage of rows in which response and expected_response are same: 0.6490291262135922\n",
      "The average, median and variance of the column time are: 0.07644487900122714 0.059084357999381554 0.0006353173142418077\n",
      "The average, median and variance of the column tokens/sec are: 34.02571075712044 34.0737171633162 0.22498249722645056\n",
      "The average, median and variance of the column bandwidth are: 220.91562799911216 221.22731481289887 9.48390512685299\n",
      "The average, median and variance of the column memory are: 7.153923882625242 7.244153344 0.013820317446018882\n"
     ]
    }
   ],
   "source": [
    "# calling the function with another file name\n",
    "data_analysis('Incontext_d_Incontext_m_categorization_3B_e1.csv')"
   ]
  },
  {
   "cell_type": "code",
   "execution_count": 5,
   "metadata": {},
   "outputs": [
    {
     "name": "stdout",
     "output_type": "stream",
     "text": [
      "The column names are: Index(['response', 'expected_response', 'time', 'tokens/sec', 'bandwidth',\n",
      "       'memory'],\n",
      "      dtype='object')\n",
      "The total number of rows and columns are: (1504, 6)\n",
      "The percentage of rows in which response and expected_response are same: 0.6888297872340425\n",
      "The average, median and variance of the column time are: 0.11821986737953569 0.1177027160156285 0.0002941038069463141\n",
      "The average, median and variance of the column tokens/sec are: 33.945642914439624 33.98392267828404 0.646734011421337\n",
      "The average, median and variance of the column bandwidth are: 220.39577882168777 220.644314352061 27.26240521926215\n",
      "The average, median and variance of the column memory are: 6.995322725106382 7.008272896 0.016211974423007543\n"
     ]
    }
   ],
   "source": [
    "#calling the function with another file name\n",
    "data_analysis('Given_Hate_Incontext_d_Incontext_m_categorization_3B_e1.csv')"
   ]
  }
 ],
 "metadata": {
  "kernelspec": {
   "display_name": "test",
   "language": "python",
   "name": "python3"
  },
  "language_info": {
   "codemirror_mode": {
    "name": "ipython",
    "version": 3
   },
   "file_extension": ".py",
   "mimetype": "text/x-python",
   "name": "python",
   "nbconvert_exporter": "python",
   "pygments_lexer": "ipython3",
   "version": "3.9.20"
  }
 },
 "nbformat": 4,
 "nbformat_minor": 2
}
