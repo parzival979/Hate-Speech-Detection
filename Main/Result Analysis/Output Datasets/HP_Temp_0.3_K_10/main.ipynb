{
 "cells": [
  {
   "cell_type": "code",
   "execution_count": 1,
   "metadata": {},
   "outputs": [],
   "source": [
    "# import pandas and numpy\n",
    "import pandas as pd\n",
    "import numpy as np"
   ]
  },
  {
   "cell_type": "code",
   "execution_count": 2,
   "metadata": {},
   "outputs": [],
   "source": [
    "# making a function to do tasks given a dataset file name, with description in every print statement\n",
    "def data_analysis(file_name):\n",
    "    data = pd.read_csv(file_name)\n",
    "    print('The column names are:',data.columns)\n",
    "    print('The total number of rows and columns are:',data.shape)\n",
    "    print('The percentage of rows in which response and expected_response are same:',data[data['response'] == data['expected_response']].shape[0]/data.shape[0])\n",
    "    print('The average, median and variance of the column time are:',data['time'].mean(),data['time'].median(),data['time'].var())\n",
    "    print('The average, median and variance of the column tokens/sec are:',data['tokens/sec'].mean(),data['tokens/sec'].median(),data['tokens/sec'].var())\n",
    "    print('The average, median and variance of the column bandwidth are:',data['bandwidth'].mean(),data['bandwidth'].median(),data['bandwidth'].var())\n",
    "    print('The average, median and variance of the column memory are:',data['memory'].mean(),data['memory'].median(),data['memory'].var())\n",
    "    "
   ]
  },
  {
   "cell_type": "code",
   "execution_count": 3,
   "metadata": {},
   "outputs": [
    {
     "name": "stdout",
     "output_type": "stream",
     "text": [
      "The column names are: Index(['response', 'expected_response', 'time', 'tokens/sec', 'bandwidth',\n",
      "       'memory'],\n",
      "      dtype='object')\n",
      "The total number of rows and columns are: (4120, 6)\n",
      "The percentage of rows in which response and expected_response are same: 0.7844660194174757\n",
      "The average, median and variance of the column time are: 0.05969519947086275 0.052758569509023745 8.770954791977575e-05\n",
      "The average, median and variance of the column tokens/sec are: 57.71589515708178 57.74519895782459 0.9423888074247908\n",
      "The average, median and variance of the column bandwidth are: 144.58890015502587 144.6623115490315 5.914379068017465\n",
      "The average, median and variance of the column memory are: 2.925951963836894 3.015328256 0.013690060623971129\n"
     ]
    }
   ],
   "source": [
    "# calling the function with the file name\n",
    "data_analysis('Incontext_d_Incontext_m_classification_1B_e5.csv')"
   ]
  },
  {
   "cell_type": "code",
   "execution_count": 4,
   "metadata": {},
   "outputs": [
    {
     "name": "stdout",
     "output_type": "stream",
     "text": [
      "The column names are: Index(['response', 'expected_response', 'time', 'tokens/sec', 'bandwidth',\n",
      "       'memory'],\n",
      "      dtype='object')\n",
      "The total number of rows and columns are: (4120, 6)\n",
      "The percentage of rows in which response and expected_response are same: 0.6393203883495145\n",
      "The average, median and variance of the column time are: 0.07605798397551161 0.0586850874969968 0.0008045511068774509\n",
      "The average, median and variance of the column tokens/sec are: 34.29102946799928 34.33721059133433 0.3527860131926987\n",
      "The average, median and variance of the column bandwidth are: 222.63823858767853 222.93807455395972 14.87133052769274\n",
      "The average, median and variance of the column memory are: 7.15431343906796 7.244153344 0.013810807421647218\n"
     ]
    }
   ],
   "source": [
    "# calling the function with another file name\n",
    "data_analysis('Incontext_d_Incontext_m_categorization_3B_e1.csv')"
   ]
  },
  {
   "cell_type": "code",
   "execution_count": 5,
   "metadata": {},
   "outputs": [
    {
     "name": "stdout",
     "output_type": "stream",
     "text": [
      "The column names are: Index(['response', 'expected_response', 'time', 'tokens/sec', 'bandwidth',\n",
      "       'memory'],\n",
      "      dtype='object')\n",
      "The total number of rows and columns are: (1504, 6)\n",
      "The percentage of rows in which response and expected_response are same: 0.6795212765957447\n",
      "The average, median and variance of the column time are: 0.11498984593031596 0.114757916497183 0.0001332838136202831\n",
      "The average, median and variance of the column tokens/sec are: 34.75750012235979 34.85228766118949 0.5702251437085115\n",
      "The average, median and variance of the column bandwidth are: 225.6668500481942 226.2822684538971 24.03725281097928\n",
      "The average, median and variance of the column memory are: 6.995322725106382 7.008272896 0.016211974423007543\n"
     ]
    }
   ],
   "source": [
    "#calling the function with another file name\n",
    "data_analysis('Given_Hate_Incontext_d_Incontext_m_categorization_3B_e1.csv')"
   ]
  }
 ],
 "metadata": {
  "kernelspec": {
   "display_name": "test",
   "language": "python",
   "name": "python3"
  },
  "language_info": {
   "codemirror_mode": {
    "name": "ipython",
    "version": 3
   },
   "file_extension": ".py",
   "mimetype": "text/x-python",
   "name": "python",
   "nbconvert_exporter": "python",
   "pygments_lexer": "ipython3",
   "version": "3.9.20"
  }
 },
 "nbformat": 4,
 "nbformat_minor": 2
}
