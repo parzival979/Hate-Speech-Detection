{
 "cells": [
  {
   "cell_type": "code",
   "execution_count": 16,
   "metadata": {},
   "outputs": [],
   "source": [
    "# import pandas and numpy\n",
    "import pandas as pd\n",
    "import numpy as np"
   ]
  },
  {
   "cell_type": "code",
   "execution_count": 32,
   "metadata": {},
   "outputs": [],
   "source": [
    "# making a function to do tasks given a dataset file name, with description in every print statement\n",
    "def data_analysis(file_name):\n",
    "    data = pd.read_csv(file_name)\n",
    "    print('The column names are:',data.columns)\n",
    "    print('The total number of rows and columns are:',data.shape)\n",
    "    print('The percentage of rows in which response and expected_response are same:',data[data['response'] == data['expected_response']].shape[0]/data.shape[0])\n",
    "    print('The average, median and variance of the column time are:',data['time'].mean(),data['time'].median(),data['time'].var())\n",
    "    print('The average, median and variance of the column tokens/sec are:',data['tokens/sec'].mean(),data['tokens/sec'].median(),data['tokens/sec'].var())\n",
    "    print('The average, median and variance of the column bandwidth are:',data['bandwidth'].mean(),data['bandwidth'].median(),data['bandwidth'].var())\n",
    "    print('The average, median and variance of the column memory are:',data['memory'].mean(),data['memory'].median(),data['memory'].var())\n",
    "    "
   ]
  },
  {
   "cell_type": "code",
   "execution_count": 33,
   "metadata": {},
   "outputs": [
    {
     "name": "stdout",
     "output_type": "stream",
     "text": [
      "The column names are: Index(['response', 'expected_response', 'time', 'tokens/sec', 'bandwidth',\n",
      "       'memory'],\n",
      "      dtype='object')\n",
      "The total number of rows and columns are: (4120, 6)\n",
      "The percentage of rows in which response and expected_response are same: 0.7810679611650485\n",
      "The average, median and variance of the column time are: 0.05875474161863887 0.05143398449581575 0.0007038785424379145\n",
      "The average, median and variance of the column tokens/sec are: 59.032233291744845 59.06641135711867 1.0210063804614977\n",
      "The average, median and variance of the column bandwidth are: 147.88656854611722 147.9721908667687 6.407778527649456\n",
      "The average, median and variance of the column memory are: 2.925951963836894 3.015328256 0.013690060623971129\n"
     ]
    }
   ],
   "source": [
    "# calling the function with the file name\n",
    "data_analysis('Incontext_d_Incontext_m_classification_1B_e5.csv')"
   ]
  },
  {
   "cell_type": "code",
   "execution_count": 34,
   "metadata": {},
   "outputs": [
    {
     "name": "stdout",
     "output_type": "stream",
     "text": [
      "The column names are: Index(['response', 'expected_response', 'time', 'tokens/sec', 'bandwidth',\n",
      "       'memory'],\n",
      "      dtype='object')\n",
      "The total number of rows and columns are: (4120, 6)\n",
      "The percentage of rows in which response and expected_response are same: 0.6026699029126213\n",
      "The average, median and variance of the column time are: 0.07792885619084557 0.05913871199300045 0.000640009528697072\n",
      "The average, median and variance of the column tokens/sec are: 34.07232708138599 34.11549939327514 0.23393789103897622\n",
      "The average, median and variance of the column bandwidth are: 221.21828955477054 221.49859048547683 9.861410516554987\n",
      "The average, median and variance of the column memory are: 7.154368574508736 7.244153344 0.013784266993653664\n"
     ]
    }
   ],
   "source": [
    "# calling the function with another file name\n",
    "data_analysis('Incontext_d_Incontext_m_categorization_3B_e1.csv')"
   ]
  },
  {
   "cell_type": "code",
   "execution_count": 35,
   "metadata": {},
   "outputs": [
    {
     "name": "stdout",
     "output_type": "stream",
     "text": [
      "The column names are: Index(['response', 'expected_response', 'time', 'tokens/sec', 'bandwidth',\n",
      "       'memory'],\n",
      "      dtype='object')\n",
      "The total number of rows and columns are: (1504, 6)\n",
      "The percentage of rows in which response and expected_response are same: 0.6542553191489362\n",
      "The average, median and variance of the column time are: 0.11258058318479863 0.1146249390003504 9.828358318024352e-05\n",
      "The average, median and variance of the column tokens/sec are: 34.78644106225187 34.86900028222975 0.4195925739594298\n",
      "The average, median and variance of the column bandwidth are: 225.85475224829173 226.3907769637993 17.687492193483546\n",
      "The average, median and variance of the column memory are: 6.995002244425531 7.008272896 0.01631321632298657\n"
     ]
    }
   ],
   "source": [
    "#calling the function with another file name\n",
    "data_analysis('Given_Hate_Incontext_d_Incontext_m_categorization_3B_e1.csv')"
   ]
  }
 ],
 "metadata": {
  "kernelspec": {
   "display_name": "test",
   "language": "python",
   "name": "python3"
  },
  "language_info": {
   "codemirror_mode": {
    "name": "ipython",
    "version": 3
   },
   "file_extension": ".py",
   "mimetype": "text/x-python",
   "name": "python",
   "nbconvert_exporter": "python",
   "pygments_lexer": "ipython3",
   "version": "3.9.20"
  }
 },
 "nbformat": 4,
 "nbformat_minor": 2
}
